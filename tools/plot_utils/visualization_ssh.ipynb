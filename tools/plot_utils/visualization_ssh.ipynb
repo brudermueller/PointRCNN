{
 "cells": [
  {
   "cell_type": "markdown",
   "metadata": {},
   "source": [
    "Followed this [instruction manual](https://github.com/kuixu/kitti_object_vis/tree/master/jupyter) on how to setup jupyter notebook mayavi interface for remote usage."
   ]
  },
  {
   "cell_type": "code",
   "execution_count": 1,
   "metadata": {},
   "outputs": [],
   "source": [
    "from xvfbwrapper import Xvfb\n",
    "vdisplay = Xvfb(width=1920, height=1080)\n",
    "vdisplay.start()"
   ]
  },
  {
   "cell_type": "code",
   "execution_count": 2,
   "metadata": {},
   "outputs": [
    {
     "name": "stdout",
     "output_type": "stream",
     "text": [
      "Notebook initialized with ipy backend.\n"
     ]
    }
   ],
   "source": [
    "from mayavi import mlab\n",
    "mlab.init_notebook('ipy')\n",
    "s = mlab.test_plot3d()"
   ]
  },
  {
   "cell_type": "code",
   "execution_count": 3,
   "metadata": {},
   "outputs": [],
   "source": [
    "import os\n",
    "import numpy as np\n",
    "from visualize_utils import readIntoNumpy, draw_scenes\n",
    "import lib.utils.custom_data_utils as data_utils"
   ]
  },
  {
   "cell_type": "code",
   "execution_count": 4,
   "metadata": {},
   "outputs": [],
   "source": [
    "DATA_PATH = os.path.join('../../', 'data/custom_data/')\n",
    "OUTPUT_PATH = os.path.join('../../', 'output/')\n",
    "all_val_files = data_utils.get_data_files(os.path.join(DATA_PATH, 'val.txt'))\n",
    "# path of lidar frame\n",
    "lidar_file = os.path.join(DATA_PATH, all_val_files[0])\n",
    "\n",
    "assert os.path.exists(lidar_file)\n",
    "pts, _, bboxes = data_utils.load_h5(lidar_file, bbox=True)\n",
    "\n",
    "# path of output from model\n",
    "bboxes3d_path = os.path.join(OUTPUT_PATH, \"rpn/pedestrian/eval/epoch_0/val/detections/data/000000.txt\")\n",
    "bboxes3d, scores = readIntoNumpy(bboxes3d_path)\n",
    "best_box_idx = np.argmax(scores)\n",
    "gt_boxes = np.reshape(bboxes, (-1, 7))\n",
    "\n",
    "# load foreground segmentation results \n",
    "seg_pts_file = os.path.join(OUTPUT_PATH, \"rpn/pedestrian/eval/epoch_0/val/seg_result/000000.h5\")\n",
    "seg_pts = data_utils.load_h5_basic(seg_pts_file)\n",
    "mask = seg_pts[:,4] > 0 \n",
    "foreground = seg_pts[mask, :][:, 0:3]\n",
    "\n",
    "\n",
    "fig = draw_scenes(pts, gt_boxes=np.reshape(bboxes3d[best_box_idx,:], (-1,7)), ref_boxes=gt_boxes, foreground_pts=foreground)\n",
    "mlab.show()"
   ]
  },
  {
   "cell_type": "code",
   "execution_count": 5,
   "metadata": {},
   "outputs": [
    {
     "data": {
      "application/vnd.jupyter.widget-view+json": {
       "model_id": "edb58543575344b5baa0a57507397a78",
       "version_major": 2,
       "version_minor": 0
      },
      "text/plain": [
       "Image(value=b'\\x89PNG\\r\\n\\x1a\\n\\x00\\x00\\x00\\rIHDR\\x00\\x00\\x03\\xe8\\x00\\x00\\x03\\xe8\\x08\\x02\\x00\\x00\\x00\\xc2\\xc1C…"
      ]
     },
     "metadata": {},
     "output_type": "display_data"
    }
   ],
   "source": [
    "fig"
   ]
  },
  {
   "cell_type": "code",
   "execution_count": null,
   "metadata": {},
   "outputs": [],
   "source": []
  }
 ],
 "metadata": {
  "kernelspec": {
   "display_name": "Python 3",
   "language": "python",
   "name": "python3"
  },
  "language_info": {
   "codemirror_mode": {
    "name": "ipython",
    "version": 3
   },
   "file_extension": ".py",
   "mimetype": "text/x-python",
   "name": "python",
   "nbconvert_exporter": "python",
   "pygments_lexer": "ipython3",
   "version": "3.7.7"
  }
 },
 "nbformat": 4,
 "nbformat_minor": 4
}
